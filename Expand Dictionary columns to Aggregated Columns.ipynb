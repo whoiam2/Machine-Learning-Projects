{
 "cells": [
  {
   "cell_type": "code",
   "execution_count": 33,
   "metadata": {},
   "outputs": [],
   "source": [
    "import pandas as pd\n",
    "import numpy as np\n",
    "import json"
   ]
  },
  {
   "cell_type": "code",
   "execution_count": 60,
   "metadata": {},
   "outputs": [],
   "source": [
    "df = pd.read_excel(\"Example_data_file.xlsx\",sheet_name ='Master data',index_col='Case')"
   ]
  },
  {
   "cell_type": "code",
   "execution_count": 83,
   "metadata": {},
   "outputs": [
    {
     "data": {
      "text/html": [
       "<div>\n",
       "<style scoped>\n",
       "    .dataframe tbody tr th:only-of-type {\n",
       "        vertical-align: middle;\n",
       "    }\n",
       "\n",
       "    .dataframe tbody tr th {\n",
       "        vertical-align: top;\n",
       "    }\n",
       "\n",
       "    .dataframe thead th {\n",
       "        text-align: right;\n",
       "    }\n",
       "</style>\n",
       "<table border=\"1\" class=\"dataframe\">\n",
       "  <thead>\n",
       "    <tr style=\"text-align: right;\">\n",
       "      <th></th>\n",
       "      <th>p1</th>\n",
       "      <th>p2</th>\n",
       "      <th>p3</th>\n",
       "      <th>p4</th>\n",
       "      <th>p5</th>\n",
       "      <th>p6</th>\n",
       "    </tr>\n",
       "    <tr>\n",
       "      <th>Case</th>\n",
       "      <th></th>\n",
       "      <th></th>\n",
       "      <th></th>\n",
       "      <th></th>\n",
       "      <th></th>\n",
       "      <th></th>\n",
       "    </tr>\n",
       "  </thead>\n",
       "  <tbody>\n",
       "    <tr>\n",
       "      <th>340</th>\n",
       "      <td>{\"0\":[1175,531],\"1\":[1206,539],\"2\":[1170,504],...</td>\n",
       "      <td>{\"3\":[904,426],\"4\":[630,303],\"5\":[537,256],\"6\"...</td>\n",
       "      <td>{\"2\":[904,488],\"4\":[774,443],\"5\":[652,383],\"6\"...</td>\n",
       "      <td>{\"8\":[542,319],\"9\":[517,314],\"10\":[504,309],\"2...</td>\n",
       "      <td>{\"0\":[398,171],\"1\":[396,170],\"2\":[402,166],\"3\"...</td>\n",
       "      <td>{\"1\":[768,278],\"2\":[765,280],\"3\":[763,280],\"6\"...</td>\n",
       "    </tr>\n",
       "    <tr>\n",
       "      <th>359</th>\n",
       "      <td>{\"1\":[449,229],\"3\":[443,254],\"4\":[447,283],\"5\"...</td>\n",
       "      <td>{\"0\":[458,634],\"1\":[480,614],\"2\":[660,514],\"3\"...</td>\n",
       "      <td>{\"0\":[763,450],\"1\":[866,425],\"2\":[877,424],\"3\"...</td>\n",
       "      <td>{\"0\":[710,579],\"1\":[705,594],\"2\":[712,652],\"3\"...</td>\n",
       "      <td>{\"0\":[945,324],\"1\":[971,324],\"2\":[976,331],\"3\"...</td>\n",
       "      <td>{\"2\":[875,492],\"5\":[863,488],\"6\":[840,479],\"7\"...</td>\n",
       "    </tr>\n",
       "    <tr>\n",
       "      <th>380</th>\n",
       "      <td>{\"1\":[1083,288],\"2\":[1096,299],\"5\":[1139,300],...</td>\n",
       "      <td>{\"0\":[1151,605],\"1\":[1224,525],\"2\":[1236,515],...</td>\n",
       "      <td>{\"0\":[1125,427],\"1\":[1126,426],\"7\":[1308,393],...</td>\n",
       "      <td>{\"12\":[1096,413],\"13\":[872,396],\"14\":[836,394]...</td>\n",
       "      <td>{\"0\":[1121,504],\"1\":[1136,486],\"2\":[1137,486],...</td>\n",
       "      <td>{\"13\":[993,446],\"14\":[860,421],\"15\":[805,412],...</td>\n",
       "    </tr>\n",
       "    <tr>\n",
       "      <th>381</th>\n",
       "      <td>{\"0\":[977,447],\"1\":[989,438],\"3\":[994,439],\"4\"...</td>\n",
       "      <td>{\"236\":[526,553],\"237\":[504,520],\"238\":[478,49...</td>\n",
       "      <td>{\"0\":[763,363],\"1\":[779,352],\"9\":[746,351],\"10...</td>\n",
       "      <td>{\"120\":[704,361],\"121\":[660,366],\"122\":[630,38...</td>\n",
       "      <td>{\"0\":[1013,430],\"269\":[1013,755],\"270\":[979,79...</td>\n",
       "      <td>{\"189\":[906,509],\"190\":[872,426],\"191\":[859,38...</td>\n",
       "    </tr>\n",
       "    <tr>\n",
       "      <th>383</th>\n",
       "      <td>{\"6\":[544,248],\"7\":[578,343],\"8\":[589,429],\"9\"...</td>\n",
       "      <td>{\"2\":[565,596],\"3\":[695,483],\"10\":[731,460],\"1...</td>\n",
       "      <td>{\"1\":[605,550],\"2\":[998,413],\"3\":[1009,401],\"1...</td>\n",
       "      <td>{\"0\":[926,618],\"1\":[1004,478],\"2\":[1013,440],\"...</td>\n",
       "      <td>{\"1\":[919,540],\"2\":[1032,416],\"8\":[1013,417],\"...</td>\n",
       "      <td>{\"3\":[900,547],\"4\":[947,454],\"5\":[955,422],\"25...</td>\n",
       "    </tr>\n",
       "  </tbody>\n",
       "</table>\n",
       "</div>"
      ],
      "text/plain": [
       "                                                     p1  \\\n",
       "Case                                                      \n",
       "340   {\"0\":[1175,531],\"1\":[1206,539],\"2\":[1170,504],...   \n",
       "359   {\"1\":[449,229],\"3\":[443,254],\"4\":[447,283],\"5\"...   \n",
       "380   {\"1\":[1083,288],\"2\":[1096,299],\"5\":[1139,300],...   \n",
       "381   {\"0\":[977,447],\"1\":[989,438],\"3\":[994,439],\"4\"...   \n",
       "383   {\"6\":[544,248],\"7\":[578,343],\"8\":[589,429],\"9\"...   \n",
       "\n",
       "                                                     p2  \\\n",
       "Case                                                      \n",
       "340   {\"3\":[904,426],\"4\":[630,303],\"5\":[537,256],\"6\"...   \n",
       "359   {\"0\":[458,634],\"1\":[480,614],\"2\":[660,514],\"3\"...   \n",
       "380   {\"0\":[1151,605],\"1\":[1224,525],\"2\":[1236,515],...   \n",
       "381   {\"236\":[526,553],\"237\":[504,520],\"238\":[478,49...   \n",
       "383   {\"2\":[565,596],\"3\":[695,483],\"10\":[731,460],\"1...   \n",
       "\n",
       "                                                     p3  \\\n",
       "Case                                                      \n",
       "340   {\"2\":[904,488],\"4\":[774,443],\"5\":[652,383],\"6\"...   \n",
       "359   {\"0\":[763,450],\"1\":[866,425],\"2\":[877,424],\"3\"...   \n",
       "380   {\"0\":[1125,427],\"1\":[1126,426],\"7\":[1308,393],...   \n",
       "381   {\"0\":[763,363],\"1\":[779,352],\"9\":[746,351],\"10...   \n",
       "383   {\"1\":[605,550],\"2\":[998,413],\"3\":[1009,401],\"1...   \n",
       "\n",
       "                                                     p4  \\\n",
       "Case                                                      \n",
       "340   {\"8\":[542,319],\"9\":[517,314],\"10\":[504,309],\"2...   \n",
       "359   {\"0\":[710,579],\"1\":[705,594],\"2\":[712,652],\"3\"...   \n",
       "380   {\"12\":[1096,413],\"13\":[872,396],\"14\":[836,394]...   \n",
       "381   {\"120\":[704,361],\"121\":[660,366],\"122\":[630,38...   \n",
       "383   {\"0\":[926,618],\"1\":[1004,478],\"2\":[1013,440],\"...   \n",
       "\n",
       "                                                     p5  \\\n",
       "Case                                                      \n",
       "340   {\"0\":[398,171],\"1\":[396,170],\"2\":[402,166],\"3\"...   \n",
       "359   {\"0\":[945,324],\"1\":[971,324],\"2\":[976,331],\"3\"...   \n",
       "380   {\"0\":[1121,504],\"1\":[1136,486],\"2\":[1137,486],...   \n",
       "381   {\"0\":[1013,430],\"269\":[1013,755],\"270\":[979,79...   \n",
       "383   {\"1\":[919,540],\"2\":[1032,416],\"8\":[1013,417],\"...   \n",
       "\n",
       "                                                     p6  \n",
       "Case                                                     \n",
       "340   {\"1\":[768,278],\"2\":[765,280],\"3\":[763,280],\"6\"...  \n",
       "359   {\"2\":[875,492],\"5\":[863,488],\"6\":[840,479],\"7\"...  \n",
       "380   {\"13\":[993,446],\"14\":[860,421],\"15\":[805,412],...  \n",
       "381   {\"189\":[906,509],\"190\":[872,426],\"191\":[859,38...  \n",
       "383   {\"3\":[900,547],\"4\":[947,454],\"5\":[955,422],\"25...  "
      ]
     },
     "execution_count": 83,
     "metadata": {},
     "output_type": "execute_result"
    }
   ],
   "source": [
    "df.head()"
   ]
  },
  {
   "cell_type": "code",
   "execution_count": 84,
   "metadata": {},
   "outputs": [],
   "source": [
    "#Set Case as the index, which later on going to be appended to our aggregated list\n",
    "case = df.index.tolist()"
   ]
  },
  {
   "cell_type": "code",
   "execution_count": 85,
   "metadata": {},
   "outputs": [
    {
     "data": {
      "text/plain": [
       "340"
      ]
     },
     "execution_count": 85,
     "metadata": {},
     "output_type": "execute_result"
    }
   ],
   "source": [
    "case[0]"
   ]
  },
  {
   "cell_type": "code",
   "execution_count": 86,
   "metadata": {},
   "outputs": [],
   "source": [
    "#find the max row and max col to iterate through\n",
    "row = df.shape[0]\n",
    "col = df.shape[1]"
   ]
  },
  {
   "cell_type": "code",
   "execution_count": 123,
   "metadata": {},
   "outputs": [],
   "source": [
    "#define aggregation function and interate through \n",
    "agg_df = pd.DataFrame(columns = ['Case','Time','Position_x','Position_y'])\n",
    "for i in range(row):\n",
    "    for c in range(col):\n",
    "        temp = df.iloc[i,c]\n",
    "        temp_json = json.loads(temp)\n",
    "        temp_df = pd.DataFrame.from_dict(temp_json).T\n",
    "        temp_df.insert(0, 'Time', temp_df.index)\n",
    "        temp_df.reset_index(drop=True, inplace=True)\n",
    "        temp_df.insert(0, 'Case', case[i])\n",
    "        temp_df = temp_df.rename(columns={temp_df.columns[2]: \"Position_x\",temp_df.columns[3]: \"Position_y\"})\n",
    "        agg_df = agg_df.append(temp_df, ignore_index=True)\n"
   ]
  },
  {
   "cell_type": "code",
   "execution_count": 124,
   "metadata": {},
   "outputs": [
    {
     "data": {
      "text/plain": [
       "(12097, 4)"
      ]
     },
     "execution_count": 124,
     "metadata": {},
     "output_type": "execute_result"
    }
   ],
   "source": [
    "#check out result's shape\n",
    "agg_df.shape"
   ]
  },
  {
   "cell_type": "code",
   "execution_count": 125,
   "metadata": {},
   "outputs": [
    {
     "data": {
      "text/html": [
       "<div>\n",
       "<style scoped>\n",
       "    .dataframe tbody tr th:only-of-type {\n",
       "        vertical-align: middle;\n",
       "    }\n",
       "\n",
       "    .dataframe tbody tr th {\n",
       "        vertical-align: top;\n",
       "    }\n",
       "\n",
       "    .dataframe thead th {\n",
       "        text-align: right;\n",
       "    }\n",
       "</style>\n",
       "<table border=\"1\" class=\"dataframe\">\n",
       "  <thead>\n",
       "    <tr style=\"text-align: right;\">\n",
       "      <th></th>\n",
       "      <th>Case</th>\n",
       "      <th>Time</th>\n",
       "      <th>Position_x</th>\n",
       "      <th>Position_y</th>\n",
       "    </tr>\n",
       "  </thead>\n",
       "  <tbody>\n",
       "    <tr>\n",
       "      <th>0</th>\n",
       "      <td>340</td>\n",
       "      <td>0</td>\n",
       "      <td>1175</td>\n",
       "      <td>531</td>\n",
       "    </tr>\n",
       "    <tr>\n",
       "      <th>1</th>\n",
       "      <td>340</td>\n",
       "      <td>1</td>\n",
       "      <td>1206</td>\n",
       "      <td>539</td>\n",
       "    </tr>\n",
       "    <tr>\n",
       "      <th>2</th>\n",
       "      <td>340</td>\n",
       "      <td>2</td>\n",
       "      <td>1170</td>\n",
       "      <td>504</td>\n",
       "    </tr>\n",
       "    <tr>\n",
       "      <th>3</th>\n",
       "      <td>340</td>\n",
       "      <td>3</td>\n",
       "      <td>1157</td>\n",
       "      <td>492</td>\n",
       "    </tr>\n",
       "    <tr>\n",
       "      <th>4</th>\n",
       "      <td>340</td>\n",
       "      <td>4</td>\n",
       "      <td>1118</td>\n",
       "      <td>463</td>\n",
       "    </tr>\n",
       "  </tbody>\n",
       "</table>\n",
       "</div>"
      ],
      "text/plain": [
       "  Case Time Position_x Position_y\n",
       "0  340    0       1175        531\n",
       "1  340    1       1206        539\n",
       "2  340    2       1170        504\n",
       "3  340    3       1157        492\n",
       "4  340    4       1118        463"
      ]
     },
     "execution_count": 125,
     "metadata": {},
     "output_type": "execute_result"
    }
   ],
   "source": [
    "agg_df.head()"
   ]
  },
  {
   "cell_type": "code",
   "execution_count": 127,
   "metadata": {},
   "outputs": [],
   "source": [
    "agg_df.to_csv('Json_expended.csv',index = False)"
   ]
  }
 ],
 "metadata": {
  "kernelspec": {
   "display_name": "Python 3",
   "language": "python",
   "name": "python3"
  },
  "language_info": {
   "codemirror_mode": {
    "name": "ipython",
    "version": 3
   },
   "file_extension": ".py",
   "mimetype": "text/x-python",
   "name": "python",
   "nbconvert_exporter": "python",
   "pygments_lexer": "ipython3",
   "version": "3.8.3"
  }
 },
 "nbformat": 4,
 "nbformat_minor": 4
}
